{
 "cells": [
  {
   "cell_type": "markdown",
   "metadata": {},
   "source": [
    "# 分布推定・モデル選択\n",
    "#### データ$\\mathcal D$を観測した時，それを生成した分布を推定したい．候補となる分布(確率密度関数)の集合$\\mathbb M$から，観測したデータを生成した確率が最も高いモデル$\\mathcal M$を見つけたい，という問題を考える．\n",
    "#### データ$\\mathcal D$が与えられた下でのモデル$\\mathcal M$の事後確率$p(\\mathcal M | \\mathcal D)$が最も高くなるようなモデル$\\hat{\\mathcal M}$は，(1)式のように書ける．\n",
    "$$\n",
    "\\begin{align}\n",
    "\\hat{\\mathcal M} &= {\\rm argmax}_{\\mathcal M} p(\\mathcal M | \\mathcal D) \\tag{1} \\\\\n",
    "\\end{align}\n",
    "$$\n",
    "\n",
    "#### (1)式の事後確率$p(\\mathcal M | \\mathcal D)$はベイズの定理から(2)式のように変形できる．さらに，データの確率$p(\\mathcal D)$は最早モデル$\\mathcal M$に関係ないの定数であるから(3)式のようになる．\n",
    "$$\n",
    "\\begin{align}\n",
    "p(\\mathcal M | \\mathcal D) &= \\frac{p(\\mathcal D | \\mathcal M) p(\\mathcal M)} {p(\\mathcal D)} \\tag{2} \\\\\n",
    "& \\propto  p(\\mathcal D | \\mathcal M) p(\\mathcal M) \\tag{3} \n",
    "\\end{align}\n",
    "$$\n",
    "\n",
    "#### ここで，モデルの事前分布$p(\\mathcal M)$を一様分布($p(\\mathcal M_1) = p(\\mathcal M_2) = ... = p(\\mathcal M_{|\\mathbb M|}) = const.$)と仮定する．また，候補のモデルは少数のパラメータ$\\boldsymbol \\theta$(分布の平均とか分散など)で規定されるパラメトリックモデルと仮定する．すると，(5)式のようになり，これは$p(\\mathcal D | \\boldsymbol \\theta,  \\mathcal M)$を$\\boldsymbol \\theta$で周辺化している形だから，周辺尤度(Marginal Likelihood, ML)と呼ぶ．このように，モデル$\\mathcal M$の事後確率$p(\\mathcal M | \\mathcal D)$は周辺尤度に比例するから，周辺尤度が最大となるモデルを見つければ良い．(対数をとった対数周辺尤度(log Marginal Likelihood, logML)の最大化や，対数周辺尤度にマイナスをつけたベイズ自由エネルギー(Bayesian Free Energy, BFE)の最小化を考えることもある．)\n",
    "$$\n",
    "\\begin{align}\n",
    "p(\\mathcal M | \\mathcal D) & \\propto p(\\mathcal D | \\mathcal M) p(\\mathcal M) \\tag{3}\\\\\n",
    "& \\propto  p(\\mathcal D | \\mathcal M) \\tag{4} \\\\\n",
    "& = \\int p(\\mathcal D | \\boldsymbol \\theta,  \\mathcal M) p(\\boldsymbol \\theta | \\mathcal M) {\\rm d}\\boldsymbol \\theta　\\tag{5} \n",
    "= {\\rm Marginal \\; Likelihood}\n",
    "\\end{align}\n",
    "$$\n",
    "\n",
    "#### $p(\\mathcal D | \\boldsymbol \\theta,  \\mathcal M)$はあるモデル$\\mathcal M$がパラメータ$\\boldsymbol \\theta$を取った時のデータ$\\mathcal D$の尤度，$p(\\boldsymbol \\theta | \\mathcal M)$はあるモデル$\\mathcal M$のもとでのパラメータ$\\boldsymbol \\theta$の事前分布である．尤度や事前分布をうまいこと設定すると周辺尤度は解析的に計算できる(うまいこと設定せずとも近似的に周辺尤度を計算する方法も存在する)．\n",
    "\n",
    "#### 例えば，モデルをガウス分布$\\mathcal N(\\mu, \\sigma)$，モデルのパラメータ$\\mu$の事前分布をガウス分布$\\mathcal N(\\nu, \\tau)$とする($\\sigma$は既知と仮定)．ただし，$\\mathcal D = \\{ x_i \\}_{i=1}^N, \\boldsymbol \\theta = \\mu$．仮定(6)(7)式より(5)式のインテグラルの中身を計算すると(8)式になる．(5)式は(8)式を$\\mu$に対して積分するから，積分されるのは$\\mathcal{N}(\\bar{\\mu}, b)$で，(9)式のようになる．(9)式には既知数しかないので計算できる．\n",
    "$$\n",
    "\\begin{align}\n",
    "x_i | \\mu,  \\mathcal M & \\sim \\mathcal N(\\mu, \\sigma) \\tag{6} \\\\\n",
    "\\mu | \\mathcal M & \\sim \\mathcal N(\\nu, \\tau) \\tag{7} \\\\\n",
    "p(\\mathcal D | \\boldsymbol \\theta,  \\mathcal M) p(\\boldsymbol \\theta | \\mathcal M) &= \\left[\\prod_{i=1}^N p(x_i | \\mu,  \\mathcal M)\\right] p(\\mu | \\mathcal M)\\\\\n",
    "&= \\left[\\prod_{i=1}^N \\frac{1}{\\sqrt{2 \\pi \\sigma^2}} {\\rm exp} \\left( - \\frac{(x_i - \\mu)^2}{2 \\sigma^2}  \\right)\\right] \\frac{1}{\\sqrt{2 \\pi \\tau^2}} {\\rm exp} \\left( - \\frac{(\\mu - \\nu)^2}{2 \\tau^2}  \\right) \\\\\n",
    "&= \\frac{1}{\\sqrt{(2 \\pi)^N \\sigma^{2(N-1)} (\\sigma + N \\tau^2)}} \n",
    "{\\rm exp} \\left[ \\frac{1}{2} \\left( \\frac{(\\sigma^2 \\nu + N \\bar{x} \\tau^2)^2}{\\sigma^2 \\tau^2 (\\sigma^2 + N \\tau^2)} - \\frac{\\nu^2 \\sigma^2 + \\bar{x^2} \\tau^2}{\\sigma^2 \\tau^2} \\right) \\right] \\\\\n",
    "&\\quad\\quad\\quad\\quad\\quad \\sqrt{\\frac{\\sigma^2 + N \\tau^2}{2 \\pi \\sigma^2 \\tau^2}}\n",
    "{\\rm exp} \\left[-\\frac{N\\tau^2+\\sigma^2}{2\\sigma^2\\tau^2} \\left(\\mu-\\frac{N\\tau^2\\overline{x}+\\sigma^2\\nu}{N\\tau^2+\\sigma^2} \\right)^2 \\right] \\\\\n",
    "&= \\frac{1}{\\sqrt{(2 \\pi)^N \\sigma^{2(N-1)} (\\sigma + N \\tau^2)}} \n",
    "{\\rm exp} \\left[ \\frac{1}{2} \\left( \\frac{(\\sigma^2 \\nu + N \\bar{x} \\tau^2)^2}{\\sigma^2 \\tau^2 (\\sigma^2 + N \\tau^2)} - \\frac{\\nu^2 \\sigma^2 + \\bar{x^2} \\tau^2}{\\sigma^2 \\tau^2} \\right) \\right]\n",
    "\\mathcal{N}(\\bar{\\mu}, b) \\tag{8} \\\\\n",
    "\\int p(\\mathcal D | \\boldsymbol \\theta,  \\mathcal M) p(\\boldsymbol \\theta | \\mathcal M) {\\rm d}\\boldsymbol \\theta\n",
    "&= \\frac{1}{\\sqrt{(2 \\pi)^N \\sigma^{2(N-1)} (\\sigma + N \\tau^2)}} \n",
    "{\\rm exp} \\left[ \\frac{1}{2} \\left( \\frac{(\\sigma^2 \\nu + N \\bar{x} \\tau^2)^2}{\\sigma^2 \\tau^2 (\\sigma^2 + N \\tau^2)} - \\frac{\\nu^2 \\sigma^2 + \\bar{x^2} \\tau^2}{\\sigma^2 \\tau^2} \\right) \\right]\n",
    "\\int \\mathcal{N}(\\bar{\\mu}, b) {\\rm d}\\mu \\\\\n",
    "&= \\frac{1}{\\sqrt{(2 \\pi)^N \\sigma^{2(N-1)} (\\sigma + N \\tau^2)}} \n",
    "{\\rm exp} \\left[ \\frac{1}{2} \\left( \\frac{(\\sigma^2 \\nu + N \\bar{x} \\tau^2)^2}{\\sigma^2 \\tau^2 (\\sigma^2 + N \\tau^2)} - \\frac{\\nu^2 \\sigma^2 + \\bar{x^2} \\tau^2}{\\sigma^2 \\tau^2} \\right) \\right] \\tag{9} \n",
    "\\end{align}\n",
    "$$"
   ]
  },
  {
   "cell_type": "code",
   "execution_count": null,
   "metadata": {},
   "outputs": [],
   "source": []
  }
 ],
 "metadata": {
  "kernelspec": {
   "display_name": "Python 3",
   "language": "python",
   "name": "python3"
  },
  "language_info": {
   "codemirror_mode": {
    "name": "ipython",
    "version": 3
   },
   "file_extension": ".py",
   "mimetype": "text/x-python",
   "name": "python",
   "nbconvert_exporter": "python",
   "pygments_lexer": "ipython3",
   "version": "3.6.5"
  }
 },
 "nbformat": 4,
 "nbformat_minor": 2
}
